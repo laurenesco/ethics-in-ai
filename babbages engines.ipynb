{
 "cells": [
  {
   "cell_type": "markdown",
   "id": "c03239d5-ca99-453c-9bcd-928070131fdf",
   "metadata": {},
   "source": [
    "# History of AI"
   ]
  },
  {
   "cell_type": "markdown",
   "id": "295149cf-17b0-4650-8004-0b23661c2757",
   "metadata": {},
   "source": [
    "### Early Counting Devices\n",
    "\n",
    "Abacuses and other early calculators using the manipulation of physical objects to perform complex mathematical calculations\n",
    "\n",
    "---\n",
    "\n",
    "### Human Computers\n",
    "\n",
    "The first computers were humans, typically women. They were the people who carried out occupation of \"computer\".\n",
    "\n",
    "---\n",
    "\n",
    "### Charles Babbage\n",
    "\n",
    "British mathematician, inventor, big thinker. He was able to think of complex machines that were so advanced they could notbe built in his time.\n",
    "\n",
    "His first invention that was built was the **Difference Engine #1**. It a success, and functioned as a calculating machine.\n",
    "\n",
    "Next came the **Difference Engine #2**, which was not built in Babbages time. It required too precise of work than could be completed in his time. It was carried out later to his specs and worked as intended.\n",
    "\n",
    "Next was the **Analytical Engine**, which was a computer, not just a calculator. It could be programmed, which is the first step toward modern computation.\n",
    "\n",
    "**The Babbage Principle**\n",
    "\n",
    "    \"The master manufacturer, by dividing the work to be executed into different processes, each requiring different degrees of skill or of force, can purchase exactly that precise quantity of both which is necessary for each process; whereas, if the whole work were executed by one workman, that person must possess sufficient skill to perform the most difficult, and sufficient strength to execute the most laborious, of the operations into which the art is divided.\"\n",
    "\n",
    "Everyone should play a different role to achieve a larger goal. This is the idea of specialization.\n",
    "\n",
    "---\n",
    "\n",
    "### Critical Problems\n",
    "\n",
    "\"the place of skill\" -> Power\n",
    "- The place geographically where the work was conducted\n",
    "- Who is in power and controls things\n",
    "- How do we value skill?\n",
    "- Is skill the knowledge to design the machine, or the skill of building it? You need both skills\n",
    "\n",
    "\"ownership\" -> Money\n",
    "- One person designs the schematics, but one person builds the machine.. Who owns it?\n",
    "- Intellectual property \n",
    "\n",
    "Edison vs. Tesla, Jobs vs. Wozniak, one is the big thinker and the other can make it happen. We must consider everyones contributions toward AI based systems.\n",
    "\n",
    "---\n",
    "\n",
    "### Ada Lovelace\n",
    "\n",
    "The first computer programmer. She wrote a program that would have run on Babbage's Analytical Engine."
   ]
  },
  {
   "cell_type": "markdown",
   "id": "7656b076-b6bb-4e62-bdad-7ada8ac4449a",
   "metadata": {},
   "source": [
    "# Videos"
   ]
  },
  {
   "cell_type": "markdown",
   "id": "08a23c06-29be-4e15-b93f-06403775058b",
   "metadata": {},
   "source": [
    "### Babbage Engine\n",
    "\n",
    "Difference Engine #2 was built and works with zero error.\n",
    "\n",
    "### Who invented computers\n",
    "\n",
    "Who was first, and what qualifies as the first computer?\n",
    "\n",
    "Babbage's analytical engine was the first concept, but was never actualized.\n",
    "\n",
    "Alan Turing devised the Universal Turing Machine that should be able to carry out any mathematical calculation\n",
    "\n",
    "Konrad Zuse created his own series of machines for his calculations, with the Z3 being his first program caried out machines.\n",
    "\n",
    "U.S. Army created the ENIAC, which could carry out programs but had no memory and had to be rewound after each time it ran.\n",
    "\n",
    "A patent for the computer has never been rewarded. The general concept of a computer was not pantentable. The computer was not invented by one person, but is the culmination of many inventions."
   ]
  }
 ],
 "metadata": {
  "kernelspec": {
   "display_name": "Python 3 (ipykernel)",
   "language": "python",
   "name": "python3"
  },
  "language_info": {
   "codemirror_mode": {
    "name": "ipython",
    "version": 3
   },
   "file_extension": ".py",
   "mimetype": "text/x-python",
   "name": "python",
   "nbconvert_exporter": "python",
   "pygments_lexer": "ipython3",
   "version": "3.10.13"
  }
 },
 "nbformat": 4,
 "nbformat_minor": 5
}
